{
 "cells": [
  {
   "cell_type": "code",
   "execution_count": 15,
   "metadata": {},
   "outputs": [],
   "source": [
    "import pandas as pd\n",
    "import random\n",
    "import os\n",
    "import numpy as np\n",
    "\n",
    "INPUT_DIR = 'artifacts'\n",
    "OUTPUT_DIR = 'artifacts'"
   ]
  },
  {
   "cell_type": "code",
   "execution_count": 20,
   "metadata": {},
   "outputs": [],
   "source": [
    "df = pd.read_csv(os.path.join(INPUT_DIR, \"all_2022_matchups.csv\"))\n",
    "dict1 = {'team': ['PHX-2022', 'MEM-2022', 'GSW-2022', 'DAL-2022', 'UTA-2022', 'DEN-2022', 'MIN-2022', 'NOP-2022',\n",
    "                  'MIA-2022', 'BOS-2022', 'MIL-2022', 'PHI-2022', 'TOR-2022', 'CHI-2022', 'BKN-2022', 'ATL-2022'],\n",
    "         'conference': ['western', 'western', 'western', 'western', 'western', 'western', 'western', 'western',\n",
    "                        'eastern', 'eastern', 'eastern', 'eastern', 'eastern', 'eastern', 'eastern', 'eastern'],\n",
    "         'seed': [1, 2, 3, 4, 5, 6, 7, 8, 1, 2, 3, 4, 5, 6, 7, 8]}\n",
    "df1 = pd.DataFrame(dict1)\n",
    "\n",
    "matchup_dict = {}\n",
    "winner_dict = {}\n",
    "conference_dict = {1: \"western\", 2: \"eastern\"}\n",
    "\n"
   ]
  },
  {
   "cell_type": "code",
   "execution_count": 21,
   "metadata": {},
   "outputs": [],
   "source": [
    "home_win_prob = df['Home_win_prob'].tolist()\n",
    "\n",
    "sim_home_win_prob = []\n",
    "\n",
    "df['Home_win_prob'].describe()\n",
    "\n",
    "avg = 0.532842\n",
    "sd = 0.131492\n",
    "num_simulations = 1000\n",
    "\n",
    "    \n",
    "\n"
   ]
  },
  {
   "cell_type": "code",
   "execution_count": 22,
   "metadata": {},
   "outputs": [],
   "source": [
    "def pick_winner(matchup):\n",
    "    \"\"\"This function picks the series winner of one matchup. The projected winning team is returned.\"\"\"\n",
    "    \n",
    "    if df1[(df1['team'] == matchup[0])].iloc[0, 1] == df1[(df1['team'] == matchup[1])].iloc[0, 1]:\n",
    "        if df1[(df1['team'] == matchup[0])].iloc[0, 2] > df1[(df1['team'] == matchup[1])].iloc[0, 2]:\n",
    "            home_team = matchup[0]\n",
    "            away_team = matchup[1]\n",
    "        else:\n",
    "            home_team = matchup[1]\n",
    "            away_team = matchup[0]\n",
    "    else:\n",
    "        home_team = matchup[0]\n",
    "        away_team = matchup[1]\n",
    "        \n",
    "    prob1 = df[(df['Home_TeamID'] == home_team) & (df['Away_TeamID'] == away_team)].iloc[0, 2]\n",
    "    prob2 = df[(df['Home_TeamID'] == away_team) & (df['Away_TeamID'] == home_team)].iloc[0, 2]\n",
    "    home_wins = 0\n",
    "    for i in range(4):\n",
    "        if prob1 > random.uniform(0, 1):\n",
    "            home_wins += 1\n",
    "    for i in range(3):\n",
    "        if prob2 < random.uniform(0, 1):\n",
    "            home_wins += 1\n",
    "\n",
    "    if home_wins >= 4:\n",
    "        return_value = home_team\n",
    "    else:\n",
    "        return_value = away_team\n",
    "\n",
    "    return return_value"
   ]
  },
  {
   "cell_type": "code",
   "execution_count": 23,
   "metadata": {},
   "outputs": [],
   "source": [
    "def build_round(game_lower, game_upper):\n",
    "    \"\"\"This function builds up matchups for a given round based on the upper and lower bounds of game numbers for a\n",
    "    given round are used as arguments. There is no return value.\"\"\"\n",
    "\n",
    "    for i in range(game_lower, game_upper):\n",
    "        matchup_dict[i] = [winner_dict[(2 * i) - 17], winner_dict[(2 * i) - 16]]"
   ]
  },
  {
   "cell_type": "code",
   "execution_count": 24,
   "metadata": {},
   "outputs": [],
   "source": [
    "def pick_round(game_lower, game_upper):\n",
    "    \"\"\"This function picks one round of games by looping over matchup_dict. The upper and lower bounds of game numbers\n",
    "    for a given round are used as arguments. The winner_dict dictionary is updated to reflect the projected winners of\n",
    "    the round. There is no return value.\"\"\"\n",
    "\n",
    "    for i in range(game_lower, game_upper):\n",
    "        winner_dict[i] = pick_winner(matchup_dict[i])"
   ]
  },
  {
   "cell_type": "code",
   "execution_count": 25,
   "metadata": {},
   "outputs": [],
   "source": [
    "def build_bracket():\n",
    "    \"\"\"This function builds up the bracket. There is no argument or return value. The dataframe must be properly scoped so that the function can\n",
    "    access it.\"\"\"\n",
    "\n",
    "    list1 = [1, 4, 3, 2]\n",
    "    for i in list1:\n",
    "        for n in range(1, 3):\n",
    "            matchup_dict[list1.index(i) + 1 + ((n - 1) * 4)] = \\\n",
    "                [df1[(df1[\"conference\"] == conference_dict[n]) & (df1['seed'] == i)].team.values[0],\n",
    "                 df1[(df1[\"conference\"] == conference_dict[n]) & (df1['seed'] == (9 - i))].team.values[0]]"
   ]
  },
  {
   "cell_type": "code",
   "execution_count": 37,
   "metadata": {},
   "outputs": [
    {
     "name": "stdout",
     "output_type": "stream",
     "text": [
      "PHX-2022\n"
     ]
    }
   ],
   "source": [
    "def pick_bracket():\n",
    "    \"\"\"This function fills out entire bracket with successive calls to build_round and pick_round. It must be called\n",
    "    after build_bracket. There is no argument or return value.\"\"\"\n",
    "\n",
    "    pick_round(1, 9)\n",
    "    build_round(9, 13)\n",
    "    pick_round(9, 13)\n",
    "    build_round(13, 15)\n",
    "    pick_round(13, 15)\n",
    "    build_round(15, 16)\n",
    "    pick_round(15, 16)\n",
    "\n",
    "def pick_champion():\n",
    "    build_bracket()\n",
    "    pick_bracket()\n",
    "\n",
    "    return(winner_dict[15])\n",
    "\n",
    "print(pick_champion())"
   ]
  },
  {
   "cell_type": "code",
   "execution_count": 55,
   "metadata": {},
   "outputs": [
    {
     "name": "stdout",
     "output_type": "stream",
     "text": [
      "['GSW-2022', 'PHX-2022', 'MIA-2022', 'PHX-2022', 'PHX-2022', 'PHX-2022', 'UTA-2022', 'GSW-2022', 'PHX-2022', 'GSW-2022', 'UTA-2022', 'MIA-2022', 'MIA-2022', 'MIA-2022', 'MIA-2022', 'DEN-2022', 'GSW-2022', 'MIL-2022', 'PHX-2022', 'DEN-2022', 'MIA-2022', 'GSW-2022', 'MIA-2022', 'DEN-2022', 'GSW-2022', 'GSW-2022', 'PHX-2022', 'GSW-2022', 'PHX-2022', 'PHX-2022', 'BKN-2022', 'PHX-2022', 'BOS-2022', 'BOS-2022', 'BKN-2022', 'GSW-2022', 'PHX-2022', 'PHX-2022', 'DEN-2022', 'PHX-2022', 'DEN-2022', 'BOS-2022', 'MIA-2022', 'PHX-2022', 'MIA-2022', 'DEN-2022', 'PHX-2022', 'MIA-2022', 'PHX-2022', 'PHX-2022', 'PHX-2022', 'PHX-2022', 'GSW-2022', 'DEN-2022', 'BOS-2022', 'MIA-2022', 'PHX-2022', 'GSW-2022', 'PHX-2022', 'MIA-2022', 'MIL-2022', 'PHX-2022', 'PHX-2022', 'DEN-2022', 'GSW-2022', 'BKN-2022', 'PHX-2022', 'PHX-2022', 'GSW-2022', 'GSW-2022', 'MIA-2022', 'PHX-2022', 'UTA-2022', 'PHX-2022', 'GSW-2022', 'PHX-2022', 'PHX-2022', 'BOS-2022', 'MIL-2022', 'MIA-2022', 'MIL-2022', 'PHX-2022', 'PHX-2022', 'PHX-2022', 'PHX-2022', 'PHI-2022', 'BOS-2022', 'DEN-2022', 'BOS-2022', 'MEM-2022', 'PHI-2022', 'GSW-2022', 'PHX-2022', 'UTA-2022', 'MIA-2022', 'PHX-2022', 'MEM-2022', 'MIA-2022', 'GSW-2022', 'BOS-2022', 'PHX-2022', 'PHX-2022', 'MIA-2022', 'MIA-2022', 'MIA-2022', 'DEN-2022', 'PHX-2022', 'PHX-2022', 'GSW-2022', 'MEM-2022', 'DEN-2022', 'DEN-2022', 'GSW-2022', 'MIA-2022', 'BOS-2022', 'GSW-2022', 'MIA-2022', 'PHX-2022', 'PHX-2022', 'PHX-2022', 'GSW-2022', 'PHX-2022', 'DEN-2022', 'PHX-2022', 'DAL-2022', 'MIA-2022', 'BOS-2022', 'PHX-2022', 'PHX-2022', 'PHX-2022', 'MIA-2022', 'UTA-2022', 'MIA-2022', 'UTA-2022', 'PHX-2022', 'PHI-2022', 'PHX-2022', 'BOS-2022', 'MIA-2022', 'GSW-2022', 'UTA-2022', 'GSW-2022', 'PHX-2022', 'PHX-2022', 'GSW-2022', 'UTA-2022', 'MIA-2022', 'PHI-2022', 'GSW-2022', 'MIA-2022', 'PHX-2022', 'PHX-2022', 'GSW-2022', 'PHX-2022', 'MIA-2022', 'PHX-2022', 'MIA-2022', 'GSW-2022', 'BKN-2022', 'MIA-2022', 'MIA-2022', 'BOS-2022', 'MIA-2022', 'MIA-2022', 'MIA-2022', 'PHX-2022', 'BOS-2022', 'BKN-2022', 'PHX-2022', 'PHX-2022', 'DEN-2022', 'PHX-2022', 'MIA-2022', 'BOS-2022', 'PHX-2022', 'MIA-2022', 'DEN-2022', 'GSW-2022', 'BKN-2022', 'MIA-2022', 'GSW-2022', 'BOS-2022', 'MIA-2022', 'MIA-2022', 'PHX-2022', 'GSW-2022', 'MIA-2022', 'PHX-2022', 'MEM-2022', 'PHX-2022', 'MIA-2022', 'MIA-2022', 'PHX-2022', 'PHX-2022', 'BKN-2022', 'PHX-2022', 'GSW-2022', 'PHX-2022', 'PHX-2022', 'BOS-2022', 'MIA-2022', 'GSW-2022', 'PHX-2022', 'DEN-2022', 'GSW-2022', 'PHX-2022', 'GSW-2022', 'PHX-2022', 'MIA-2022', 'GSW-2022', 'MIA-2022', 'PHI-2022', 'GSW-2022', 'GSW-2022', 'GSW-2022', 'MIA-2022', 'PHX-2022', 'GSW-2022', 'PHX-2022', 'MIA-2022', 'UTA-2022', 'UTA-2022', 'PHX-2022', 'MIA-2022', 'MIA-2022', 'BKN-2022', 'UTA-2022', 'BOS-2022', 'PHX-2022', 'MIL-2022', 'PHI-2022', 'BKN-2022', 'PHX-2022', 'GSW-2022', 'DEN-2022', 'MIL-2022', 'GSW-2022', 'DEN-2022', 'MIA-2022', 'PHX-2022', 'MIL-2022', 'GSW-2022', 'DEN-2022', 'MEM-2022', 'PHX-2022', 'BOS-2022', 'MIA-2022', 'BOS-2022', 'GSW-2022', 'PHX-2022', 'UTA-2022', 'PHX-2022', 'MIL-2022', 'DEN-2022', 'BOS-2022', 'BOS-2022', 'MIL-2022', 'GSW-2022', 'BOS-2022', 'PHX-2022', 'MIA-2022', 'PHI-2022', 'GSW-2022', 'GSW-2022', 'MIA-2022', 'MIA-2022', 'UTA-2022', 'MIA-2022', 'DEN-2022', 'UTA-2022', 'PHX-2022', 'PHX-2022', 'PHI-2022', 'UTA-2022', 'MIL-2022', 'DEN-2022', 'MIA-2022', 'UTA-2022', 'BOS-2022', 'MIA-2022', 'GSW-2022', 'DAL-2022', 'MIL-2022', 'MIA-2022', 'PHX-2022', 'GSW-2022', 'UTA-2022', 'MIA-2022', 'CHI-2022', 'PHX-2022', 'MIA-2022', 'MIA-2022', 'BOS-2022', 'BOS-2022', 'MIA-2022', 'MEM-2022', 'PHX-2022', 'UTA-2022', 'PHX-2022', 'PHX-2022', 'GSW-2022', 'GSW-2022', 'MIA-2022', 'PHX-2022', 'MIA-2022', 'MIA-2022', 'DEN-2022', 'PHX-2022', 'UTA-2022', 'DEN-2022', 'CHI-2022', 'TOR-2022', 'GSW-2022', 'PHX-2022', 'PHX-2022', 'PHX-2022', 'GSW-2022', 'PHX-2022', 'MIA-2022', 'GSW-2022', 'PHX-2022', 'UTA-2022', 'MEM-2022', 'GSW-2022', 'GSW-2022', 'BOS-2022', 'MIA-2022', 'PHX-2022', 'UTA-2022', 'PHX-2022', 'CHI-2022', 'BKN-2022', 'PHX-2022', 'GSW-2022', 'GSW-2022', 'PHX-2022', 'GSW-2022', 'PHX-2022', 'PHX-2022', 'MEM-2022', 'PHX-2022', 'MIA-2022', 'PHX-2022', 'DEN-2022', 'MIA-2022', 'GSW-2022', 'MIA-2022', 'MIA-2022', 'MEM-2022', 'GSW-2022', 'GSW-2022', 'UTA-2022', 'BKN-2022', 'GSW-2022', 'PHX-2022', 'MIA-2022', 'PHX-2022', 'PHX-2022', 'PHX-2022', 'PHX-2022', 'MIA-2022', 'BKN-2022', 'PHX-2022', 'GSW-2022', 'BOS-2022', 'DEN-2022', 'MIA-2022', 'PHX-2022', 'UTA-2022', 'MIA-2022', 'DEN-2022', 'GSW-2022', 'MIA-2022', 'MEM-2022', 'PHX-2022', 'BOS-2022', 'MIA-2022', 'PHX-2022', 'PHX-2022', 'MIA-2022', 'BOS-2022', 'PHX-2022', 'PHX-2022', 'PHX-2022', 'GSW-2022', 'BOS-2022', 'BOS-2022', 'BOS-2022', 'GSW-2022', 'MIA-2022', 'PHI-2022', 'PHX-2022', 'CHI-2022', 'PHX-2022', 'UTA-2022', 'BOS-2022', 'PHX-2022', 'MIA-2022', 'PHX-2022', 'MIA-2022', 'PHX-2022', 'PHX-2022', 'PHX-2022', 'MIA-2022', 'MIL-2022', 'MIA-2022', 'PHX-2022', 'GSW-2022', 'UTA-2022', 'UTA-2022', 'PHX-2022', 'GSW-2022', 'PHX-2022', 'GSW-2022', 'GSW-2022', 'UTA-2022', 'PHX-2022', 'MEM-2022', 'PHX-2022', 'PHX-2022', 'PHX-2022', 'TOR-2022', 'PHX-2022', 'PHX-2022', 'MEM-2022', 'DEN-2022', 'GSW-2022', 'GSW-2022', 'BOS-2022', 'MIL-2022', 'MIL-2022', 'DEN-2022', 'MIL-2022', 'BOS-2022', 'GSW-2022', 'MIA-2022', 'MIA-2022', 'PHX-2022', 'DEN-2022', 'PHX-2022', 'MIA-2022', 'MIA-2022', 'PHX-2022', 'PHX-2022', 'MIA-2022', 'PHX-2022', 'UTA-2022', 'PHX-2022', 'PHX-2022', 'GSW-2022', 'PHX-2022', 'MIA-2022', 'MIA-2022', 'MIA-2022', 'UTA-2022', 'MIA-2022', 'PHX-2022', 'PHX-2022', 'MIA-2022', 'PHX-2022', 'PHX-2022', 'MIA-2022', 'MIA-2022', 'PHX-2022', 'DEN-2022', 'PHX-2022', 'UTA-2022', 'PHX-2022', 'DEN-2022', 'MIA-2022', 'UTA-2022', 'MIA-2022', 'PHX-2022', 'PHX-2022', 'PHX-2022', 'MIA-2022', 'MIA-2022', 'MIA-2022', 'MIA-2022', 'MEM-2022', 'MIL-2022', 'PHX-2022', 'MIL-2022', 'UTA-2022', 'GSW-2022', 'GSW-2022', 'PHX-2022', 'UTA-2022', 'MEM-2022', 'MIA-2022', 'BOS-2022', 'MIL-2022', 'MIA-2022', 'PHX-2022', 'PHX-2022', 'CHI-2022', 'MIA-2022', 'PHI-2022', 'MIA-2022', 'PHX-2022']\n"
     ]
    }
   ],
   "source": [
    "\n",
    "def random_sim(num_simulations):\n",
    "    sim_champion = []\n",
    "    for i in range(num_simulations):\n",
    "        sim_champion.append(pick_champion())\n",
    "    \n",
    "    return(sim_champion)\n",
    "\n",
    "print(random_sim(500))\n"
   ]
  }
 ],
 "metadata": {
  "interpreter": {
   "hash": "a2d8618fdbd1c2789ab30b198ccd255fc41e6992b3eb69a1a44fbcf314b0f808"
  },
  "kernelspec": {
   "display_name": "Python 3.9.7 ('base')",
   "language": "python",
   "name": "python3"
  },
  "language_info": {
   "codemirror_mode": {
    "name": "ipython",
    "version": 3
   },
   "file_extension": ".py",
   "mimetype": "text/x-python",
   "name": "python",
   "nbconvert_exporter": "python",
   "pygments_lexer": "ipython3",
   "version": "3.9.7"
  },
  "orig_nbformat": 4
 },
 "nbformat": 4,
 "nbformat_minor": 2
}
