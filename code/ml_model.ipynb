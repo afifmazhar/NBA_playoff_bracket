{
 "cells": [
  {
   "cell_type": "code",
   "execution_count": 1,
   "id": "506b9675-e367-4450-acab-46d61037342d",
   "metadata": {},
   "outputs": [],
   "source": [
    "import os\n",
    "import pandas as pd\n",
    "import sklearn as sk\n",
    "import numpy as np\n",
    "from sklearn.linear_model import LogisticRegressionCV\n",
    "from database import engine"
   ]
  },
  {
   "cell_type": "code",
   "execution_count": 2,
   "id": "0d00d4cd-813e-4de2-81b6-3b7798ae3bea",
   "metadata": {},
   "outputs": [],
   "source": [
    "query = \"\"\"\n",
    "select\n",
    "    team_season, srs, ortg, drtg, true_shooting_percentage, average_age, margin_of_victory\n",
    "from\n",
    "    stats\n",
    "where\n",
    "    season in ('2011','2012','2013','2014','2015','2016','2017','2018','2019','2021','2022');\n",
    "    \"\"\"\n",
    "\n",
    "team_stats = pd.read_sql_query(query, engine)"
   ]
  },
  {
   "cell_type": "code",
   "execution_count": 3,
   "id": "40768e9a-3435-4278-93cb-f8ebe4d8b18b",
   "metadata": {},
   "outputs": [],
   "source": [
    "team_abbreviations = pd.read_csv(os.path.join(\"..\", \"data\", \"clean\", \"team_abbreviations.csv\"))"
   ]
  },
  {
   "cell_type": "code",
   "execution_count": 4,
   "id": "5cb042e4-d024-41f0-88e3-ddab680fa918",
   "metadata": {},
   "outputs": [],
   "source": [
    "game_results = pd.read_csv(os.path.join(\"..\", \"data\", \"clean\", \"game_results.csv\"))\n",
    "game_results = game_results.assign(home_win=lambda x: x.home_score > x.away_score)\n",
    "game_results = game_results.loc[(game_results['year'] > 2010) & (game_results['year'] != 2020)] "
   ]
  },
  {
   "cell_type": "code",
   "execution_count": 5,
   "id": "5f0d2077-444f-408b-be32-4de2837bc4e9",
   "metadata": {},
   "outputs": [],
   "source": [
    "team_abbreviations = team_abbreviations.set_index([\"Team\"])\n",
    "game_results = game_results.set_index([\"home_team\"])\n",
    "game_results = game_results.assign(home_abbreviation = team_abbreviations[\"Abbreviation\"])\n",
    "\n",
    "game_results = game_results.reset_index()\n",
    "game_results = game_results.set_index([\"away_team\"])\n",
    "game_results = game_results.assign(away_abbreviation = team_abbreviations[\"Abbreviation\"])\n",
    "game_results = game_results.reset_index()\n",
    "\n",
    "game_results['home_teamID'] = game_results['home_abbreviation'] + \"-\" + game_results[\"year\"].astype(str)\n",
    "game_results['away_teamID'] = game_results['away_abbreviation'] + \"-\" + game_results[\"year\"].astype(str)"
   ]
  },
  {
   "cell_type": "code",
   "execution_count": 6,
   "id": "474d4336-ffe8-420a-a7b7-abd5a0f9830a",
   "metadata": {},
   "outputs": [],
   "source": [
    "game_results = game_results.set_index([\"home_teamID\"])\n",
    "team_stats = team_stats.set_index([\"team_season\"])\n",
    "game_results = game_results.assign(\n",
    "    home_srs = team_stats[\"srs\"],\n",
    "    home_ortg = team_stats[\"ortg\"],\n",
    "    home_drtg = team_stats[\"drtg\"],\n",
    "    home_true_shooting_percentage = team_stats[\"true_shooting_percentage\"],\n",
    "    home_average_age = team_stats[\"average_age\"],\n",
    "    home_margin_of_victory = team_stats[\"margin_of_victory\"]\n",
    ")\n",
    "\n",
    "game_results = game_results.reset_index()\n",
    "game_results = game_results.set_index([\"away_teamID\"])\n",
    "game_results = game_results.assign(\n",
    "    away_srs = team_stats[\"srs\"],\n",
    "    away_ortg = team_stats[\"ortg\"],\n",
    "    away_drtg = team_stats[\"drtg\"],\n",
    "    away_true_shooting_percentage = team_stats[\"true_shooting_percentage\"],\n",
    "    away_average_age = team_stats[\"average_age\"],\n",
    "    away_margin_of_victory = team_stats[\"margin_of_victory\"]\n",
    ")\n",
    "game_results = game_results.reset_index()\n",
    "\n",
    "game_results = game_results.assign(avg_age_diff=lambda x: x.home_average_age - x.away_average_age)\n",
    "\n",
    "game_results = game_results.drop([\"away_team\", \"home_team\", \"year\", \"round\", \"game\", \"home_score\", \"away_score\", \"home_abbreviation\", \"away_abbreviation\", \"home_average_age\", \"away_average_age\"], axis = 1)"
   ]
  },
  {
   "cell_type": "code",
   "execution_count": 7,
   "id": "a07890eb-f3c7-4432-b2f4-c9f61edf6715",
   "metadata": {},
   "outputs": [],
   "source": [
    "playoff_teams = [\"ATL-2022\", \"BOS-2022\", \"CHI-2022\", \"DAL-2022\", \n",
    "                 \"DEN-2022\", \"GSW-2022\", \"MEM-2022\", \"MIA-2022\",\n",
    "                 \"MIL-2022\", \"MIN-2022\", \"BKN-2022\", \"NOP-2022\",\n",
    "                 \"PHI-2022\", \"PHX-2022\", \"TOR-2022\", \"UTA-2022\"]\n",
    "\n",
    "all_matchups = pd.DataFrame()\n",
    "for team in playoff_teams:\n",
    "    all_matchups = all_matchups.append(pd.DataFrame({'Home_TeamID': np.repeat(team, 15), 'Away_TeamID': list(filter((team).__ne__, playoff_teams))}))\n",
    "\n",
    "all_matchups = all_matchups.set_index([\"Home_TeamID\"])\n",
    "all_matchups = all_matchups.assign(\n",
    "    home_srs = team_stats[\"srs\"],\n",
    "    home_ortg = team_stats[\"ortg\"],\n",
    "    home_drtg = team_stats[\"drtg\"],\n",
    "    home_true_shooting_percentage = team_stats[\"true_shooting_percentage\"],\n",
    "    home_average_age = team_stats[\"average_age\"],\n",
    "    home_margin_of_victory = team_stats[\"margin_of_victory\"]\n",
    ")\n",
    "\n",
    "all_matchups = all_matchups.reset_index()\n",
    "all_matchups = all_matchups.set_index([\"Away_TeamID\"])\n",
    "all_matchups = all_matchups.assign(\n",
    "    away_srs = team_stats[\"srs\"],\n",
    "    away_ortg = team_stats[\"ortg\"],\n",
    "    away_drtg = team_stats[\"drtg\"],\n",
    "    away_true_shooting_percentage = team_stats[\"true_shooting_percentage\"],\n",
    "    away_average_age = team_stats[\"average_age\"],\n",
    "    away_margin_of_victory = team_stats[\"margin_of_victory\"]\n",
    ")\n",
    "all_matchups = all_matchups.reset_index()\n",
    "\n",
    "all_matchups = all_matchups.assign(avg_age_diff=lambda x: x.home_average_age - x.away_average_age)\n",
    "\n",
    "all_matchups = all_matchups.drop([\"home_average_age\", \"away_average_age\"], axis = 1)"
   ]
  },
  {
   "cell_type": "code",
   "execution_count": 8,
   "id": "6b17814f-8098-40af-b72e-9b747c3c60ef",
   "metadata": {},
   "outputs": [],
   "source": [
    "clf = LogisticRegressionCV(cv = 10, solver = \"liblinear\", max_iter = 1000, penalty = 'l1', scoring = \"roc_auc\").fit(game_results.iloc[:, 3:14], game_results[\"home_win\"])\n",
    "\n",
    "all_2022_matchups = all_matchups.iloc[:, 0:2].reindex(columns = [\"Home_TeamID\", \"Away_TeamID\"])\n",
    "all_2022_matchups[\"Home_win_prob\"] = clf.predict_proba(all_matchups.iloc[:, 2:13])[:,1]"
   ]
  },
  {
   "cell_type": "code",
   "execution_count": 9,
   "id": "6f734718-717c-45f9-a5df-36ba16834569",
   "metadata": {},
   "outputs": [],
   "source": [
    "all_2022_matchups.to_csv(os.path.join(\"..\", \"artifacts\", \"all_2022_matchups.csv\"), index = False)"
   ]
  }
 ],
 "metadata": {
  "environment": {
   "kernel": "python3",
   "name": "common-cpu.m91",
   "type": "gcloud",
   "uri": "gcr.io/deeplearning-platform-release/base-cpu:m91"
  },
  "kernelspec": {
   "display_name": "Python 3",
   "language": "python",
   "name": "python3"
  },
  "language_info": {
   "codemirror_mode": {
    "name": "ipython",
    "version": 3
   },
   "file_extension": ".py",
   "mimetype": "text/x-python",
   "name": "python",
   "nbconvert_exporter": "python",
   "pygments_lexer": "ipython3",
   "version": "3.7.12"
  }
 },
 "nbformat": 4,
 "nbformat_minor": 5
}
